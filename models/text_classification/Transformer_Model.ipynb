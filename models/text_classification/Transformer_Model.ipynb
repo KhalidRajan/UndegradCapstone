{
 "cells": [
  {
   "cell_type": "code",
   "execution_count": 1,
   "id": "1ad3c702-06e7-48e3-abd1-ea8aa3918952",
   "metadata": {},
   "outputs": [],
   "source": [
    "import pandas as pd\n",
    "import numpy as np\n",
    "import random\n",
    "import sklearn\n",
    "import matplotlib.pyplot as plt\n",
    "import torch"
   ]
  },
  {
   "cell_type": "code",
   "execution_count": 2,
   "id": "856b6fbc-9d2f-48d7-ab42-bbf3f1ea58b6",
   "metadata": {},
   "outputs": [],
   "source": [
    "from torch import nn, optim"
   ]
  },
  {
   "cell_type": "code",
   "execution_count": 3,
   "id": "c2740143-c9a0-420f-bf1d-f778ec4b0bf1",
   "metadata": {},
   "outputs": [],
   "source": [
    "from sklearn.model_selection import train_test_split\n",
    "from sklearn.metrics import confusion_matrix, classification_report, accuracy_score"
   ]
  },
  {
   "cell_type": "code",
   "execution_count": 4,
   "id": "7b673633-7b01-4e1d-b849-e7adf7839ee9",
   "metadata": {},
   "outputs": [],
   "source": [
    "from transformers import DistilBertTokenizer, DistilBertModel, Trainer, TrainingArguments"
   ]
  },
  {
   "cell_type": "markdown",
   "id": "21738c4c-f9c1-427c-845c-3f73133a9fac",
   "metadata": {},
   "source": [
    "## Load and Preprocess Data"
   ]
  },
  {
   "cell_type": "code",
   "execution_count": 5,
   "id": "1392f7ec-5f46-4e94-a1e7-6edda7553d44",
   "metadata": {},
   "outputs": [],
   "source": [
    "data=pd.read_csv(\"data.tsv\", sep='\\t', header=None)"
   ]
  },
  {
   "cell_type": "code",
   "execution_count": 6,
   "id": "14645a92-6fbd-43ec-8b8c-c6f9e3ec8ca2",
   "metadata": {},
   "outputs": [
    {
     "data": {
      "text/html": [
       "<div>\n",
       "<style scoped>\n",
       "    .dataframe tbody tr th:only-of-type {\n",
       "        vertical-align: middle;\n",
       "    }\n",
       "\n",
       "    .dataframe tbody tr th {\n",
       "        vertical-align: top;\n",
       "    }\n",
       "\n",
       "    .dataframe thead th {\n",
       "        text-align: right;\n",
       "    }\n",
       "</style>\n",
       "<table border=\"1\" class=\"dataframe\">\n",
       "  <thead>\n",
       "    <tr style=\"text-align: right;\">\n",
       "      <th></th>\n",
       "      <th>0</th>\n",
       "      <th>1</th>\n",
       "      <th>2</th>\n",
       "      <th>3</th>\n",
       "    </tr>\n",
       "  </thead>\n",
       "  <tbody>\n",
       "    <tr>\n",
       "      <th>0</th>\n",
       "      <td>0</td>\n",
       "      <td>28</td>\n",
       "      <td>a</td>\n",
       "      <td>Meat, fish, poultry and game; Meat extracts; P...</td>\n",
       "    </tr>\n",
       "    <tr>\n",
       "      <th>1</th>\n",
       "      <td>1</td>\n",
       "      <td>34</td>\n",
       "      <td>a</td>\n",
       "      <td>Business management and organization consultan...</td>\n",
       "    </tr>\n",
       "    <tr>\n",
       "      <th>2</th>\n",
       "      <td>2</td>\n",
       "      <td>29</td>\n",
       "      <td>a</td>\n",
       "      <td>Vinegar; Salts, seasonings, flavourings and co...</td>\n",
       "    </tr>\n",
       "    <tr>\n",
       "      <th>3</th>\n",
       "      <td>3</td>\n",
       "      <td>41</td>\n",
       "      <td>a</td>\n",
       "      <td>Conducting technical project studies; Scientif...</td>\n",
       "    </tr>\n",
       "    <tr>\n",
       "      <th>4</th>\n",
       "      <td>4</td>\n",
       "      <td>35</td>\n",
       "      <td>a</td>\n",
       "      <td>Brokerage; Brokerage house services; Agencies ...</td>\n",
       "    </tr>\n",
       "  </tbody>\n",
       "</table>\n",
       "</div>"
      ],
      "text/plain": [
       "   0   1  2                                                  3\n",
       "0  0  28  a  Meat, fish, poultry and game; Meat extracts; P...\n",
       "1  1  34  a  Business management and organization consultan...\n",
       "2  2  29  a  Vinegar; Salts, seasonings, flavourings and co...\n",
       "3  3  41  a  Conducting technical project studies; Scientif...\n",
       "4  4  35  a  Brokerage; Brokerage house services; Agencies ..."
      ]
     },
     "execution_count": 6,
     "metadata": {},
     "output_type": "execute_result"
    }
   ],
   "source": [
    "data.head()"
   ]
  },
  {
   "cell_type": "code",
   "execution_count": 7,
   "id": "db8592b8-9a67-44e7-b00b-23126403b968",
   "metadata": {},
   "outputs": [],
   "source": [
    "# drop columns that don't contain useful data, such as index column\n",
    "data=data.drop(data.columns[[0, 2]], axis=1)"
   ]
  },
  {
   "cell_type": "code",
   "execution_count": 8,
   "id": "73bea8e0-dd4b-4a7b-826f-9264da4d3a35",
   "metadata": {},
   "outputs": [],
   "source": [
    "# rename the columns\n",
    "data.columns=[\"NICE Category\", \"Product Description\"]\n",
    "# change the ordering of columns\n",
    "data=data[[\"Product Description\", \"NICE Category\"]]"
   ]
  },
  {
   "cell_type": "code",
   "execution_count": 9,
   "id": "4c44cd97-0f16-4cb2-bab9-cdba870b7a72",
   "metadata": {},
   "outputs": [
    {
     "data": {
      "text/html": [
       "<div>\n",
       "<style scoped>\n",
       "    .dataframe tbody tr th:only-of-type {\n",
       "        vertical-align: middle;\n",
       "    }\n",
       "\n",
       "    .dataframe tbody tr th {\n",
       "        vertical-align: top;\n",
       "    }\n",
       "\n",
       "    .dataframe thead th {\n",
       "        text-align: right;\n",
       "    }\n",
       "</style>\n",
       "<table border=\"1\" class=\"dataframe\">\n",
       "  <thead>\n",
       "    <tr style=\"text-align: right;\">\n",
       "      <th></th>\n",
       "      <th>Product Description</th>\n",
       "      <th>NICE Category</th>\n",
       "    </tr>\n",
       "  </thead>\n",
       "  <tbody>\n",
       "    <tr>\n",
       "      <th>0</th>\n",
       "      <td>Meat, fish, poultry and game; Meat extracts; P...</td>\n",
       "      <td>28</td>\n",
       "    </tr>\n",
       "    <tr>\n",
       "      <th>1</th>\n",
       "      <td>Business management and organization consultan...</td>\n",
       "      <td>34</td>\n",
       "    </tr>\n",
       "    <tr>\n",
       "      <th>2</th>\n",
       "      <td>Vinegar; Salts, seasonings, flavourings and co...</td>\n",
       "      <td>29</td>\n",
       "    </tr>\n",
       "    <tr>\n",
       "      <th>3</th>\n",
       "      <td>Conducting technical project studies; Scientif...</td>\n",
       "      <td>41</td>\n",
       "    </tr>\n",
       "    <tr>\n",
       "      <th>4</th>\n",
       "      <td>Brokerage; Brokerage house services; Agencies ...</td>\n",
       "      <td>35</td>\n",
       "    </tr>\n",
       "  </tbody>\n",
       "</table>\n",
       "</div>"
      ],
      "text/plain": [
       "                                 Product Description  NICE Category\n",
       "0  Meat, fish, poultry and game; Meat extracts; P...             28\n",
       "1  Business management and organization consultan...             34\n",
       "2  Vinegar; Salts, seasonings, flavourings and co...             29\n",
       "3  Conducting technical project studies; Scientif...             41\n",
       "4  Brokerage; Brokerage house services; Agencies ...             35"
      ]
     },
     "execution_count": 9,
     "metadata": {},
     "output_type": "execute_result"
    }
   ],
   "source": [
    "data.head()"
   ]
  },
  {
   "cell_type": "code",
   "execution_count": 10,
   "id": "c4409dfe-8dff-4a86-a431-2e0739c2bc64",
   "metadata": {},
   "outputs": [],
   "source": [
    "data.to_csv(\"processed_textual_data.csv\")"
   ]
  },
  {
   "cell_type": "code",
   "execution_count": 11,
   "id": "b2882fcc-d3a9-42b3-9ccc-ce7a12cba5e9",
   "metadata": {},
   "outputs": [],
   "source": [
    "description_text=data[\"Product Description\"].tolist()"
   ]
  },
  {
   "cell_type": "code",
   "execution_count": 12,
   "id": "090a353d-ff98-4b15-839d-c9ef38f98ef8",
   "metadata": {},
   "outputs": [],
   "source": [
    "nice_labels=data[\"NICE Category\"].tolist()"
   ]
  },
  {
   "cell_type": "code",
   "execution_count": 13,
   "id": "aa950c66-3aff-4b2e-9220-bafa7c19ce34",
   "metadata": {},
   "outputs": [],
   "source": [
    "# split our data into train and validation sets\n",
    "train_text, val_text, train_labels, val_labels=train_test_split(description_text, nice_labels, test_size=0.3)\n",
    "val_text, test_text, val_labels, test_labels=train_test_split(val_text, val_labels, test_size=0.5)"
   ]
  },
  {
   "cell_type": "markdown",
   "id": "5a2ab40b-94bc-40ce-bcb5-84eb049cf781",
   "metadata": {},
   "source": [
    "## Tokenization"
   ]
  },
  {
   "cell_type": "code",
   "execution_count": 14,
   "id": "cbeca16f-cde3-4d69-9376-6cc068c2336d",
   "metadata": {},
   "outputs": [],
   "source": [
    "tokenizer=DistilBertTokenizer.from_pretrained('distilbert-base-uncased')"
   ]
  },
  {
   "cell_type": "code",
   "execution_count": 15,
   "id": "f5994039-e34f-4db1-a83a-8c03206ff5e4",
   "metadata": {},
   "outputs": [],
   "source": [
    "train_encodings=tokenizer(train_text, truncation=True, padding=True)"
   ]
  },
  {
   "cell_type": "code",
   "execution_count": 16,
   "id": "b3a54d55-dfac-478a-80b0-1585309bfaf4",
   "metadata": {},
   "outputs": [],
   "source": [
    "val_encodings=tokenizer(val_text, truncation=True, padding=True)"
   ]
  },
  {
   "cell_type": "code",
   "execution_count": 17,
   "id": "b9b25adb-8f5c-4128-a1dc-8afbdb9acf85",
   "metadata": {},
   "outputs": [],
   "source": [
    "test_encodings=tokenizer(test_text, truncation=True, padding=True)"
   ]
  },
  {
   "cell_type": "markdown",
   "id": "286f500c-e79f-41de-a54a-60bf6e28bb2b",
   "metadata": {},
   "source": [
    "## Creating The Dataset"
   ]
  },
  {
   "cell_type": "code",
   "execution_count": 18,
   "id": "a6eda85e-3056-4ff0-89ec-031e1a7ea29d",
   "metadata": {},
   "outputs": [],
   "source": [
    "class productDataset(torch.utils.data.Dataset):\n",
    "    def __init__(self, encodings, labels):\n",
    "        self.encodings=encodings\n",
    "        self.labels=labels\n",
    "    \n",
    "    def __getitem__(self, idx):\n",
    "        item={key: torch.tensor(val[idx]) for key, val in self.encodings.items()}\n",
    "        item[\"labels\"]=torch.tensor(self.labels[idx])\n",
    "        return item\n",
    "    \n",
    "    def __len__(self):\n",
    "        return len(self.labels)\n",
    "    \n",
    "train_dataset=productDataset(train_encodings, train_labels)\n",
    "val_dataset=productDataset(val_encodings, val_labels)\n",
    "test_dataset=productDataset(test_encodings, test_labels)"
   ]
  },
  {
   "cell_type": "markdown",
   "id": "06b2bf8e-cf37-4a30-a09b-14d0a1746cdc",
   "metadata": {},
   "source": [
    "## Training the Classifier"
   ]
  },
  {
   "cell_type": "code",
   "execution_count": null,
   "id": "7c669bc9-9708-4cd5-8615-0af5228c6210",
   "metadata": {},
   "outputs": [
    {
     "data": {
      "application/vnd.jupyter.widget-view+json": {
       "model_id": "248a56bd92074be09f6ca5f33664fba4",
       "version_major": 2,
       "version_minor": 0
      },
      "text/plain": [
       "Downloading:   0%|          | 0.00/256M [00:00<?, ?B/s]"
      ]
     },
     "metadata": {},
     "output_type": "display_data"
    }
   ],
   "source": [
    "training_args=TrainingArguments(\n",
    "    output_dir=\"./results\",\n",
    "    num_train_epochs=10,\n",
    "    per_device_train_batch_size=32,\n",
    "    per_device_eval_batch_size=32,\n",
    "    warmup_steps=600,\n",
    "    weight_decay=0.05,\n",
    "    logging_dir=\"./logs\",\n",
    "    logging_steps=25\n",
    ")\n",
    "\n",
    "model=DistilBertModel.from_pretrained('distilbert-base-uncased')\n",
    "\n",
    "trainer=Trainer(\n",
    "    model=model,\n",
    "    args=training_args,\n",
    "    train_dataset=train_dataset,\n",
    "    eval_dataset=val_dataset\n",
    ")\n",
    "\n",
    "trainer.train()"
   ]
  },
  {
   "cell_type": "code",
   "execution_count": null,
   "id": "25a0b6b7-149d-4b02-8fdf-870267530b4b",
   "metadata": {},
   "outputs": [],
   "source": [
    "trainer.save_model(\"distilBert_model\")"
   ]
  }
 ],
 "metadata": {
  "kernelspec": {
   "display_name": "Python 3",
   "language": "python",
   "name": "python3"
  },
  "language_info": {
   "codemirror_mode": {
    "name": "ipython",
    "version": 3
   },
   "file_extension": ".py",
   "mimetype": "text/x-python",
   "name": "python",
   "nbconvert_exporter": "python",
   "pygments_lexer": "ipython3",
   "version": "3.8.10"
  }
 },
 "nbformat": 4,
 "nbformat_minor": 5
}
